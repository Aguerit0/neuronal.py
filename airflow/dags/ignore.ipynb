{
 "cells": [
  {
   "cell_type": "code",
   "execution_count": 1,
   "metadata": {},
   "outputs": [
    {
     "name": "stdout",
     "output_type": "stream",
     "text": [
      "   timestamp            open            high             low           close  \\\n",
      "0 2024-09-15  59993.02000000  60395.80000000  58691.05000000  59132.00000000   \n",
      "1 2024-09-16  59132.00000000  59210.70000000  57493.30000000  58213.99000000   \n",
      "2 2024-09-17  58213.99000000  61320.00000000  57610.01000000  60313.99000000   \n",
      "3 2024-09-18  60313.99000000  61786.24000000  59174.80000000  61759.99000000   \n",
      "4 2024-09-19  61759.98000000  63850.00000000  61555.00000000  62947.99000000   \n",
      "\n",
      "           volume              close_time   quote_asset_volume  \\\n",
      "0  13757.92361000 2024-09-15 23:59:59.999   822410872.39069560   \n",
      "1  26477.56420000 2024-09-16 23:59:59.999  1543273198.70274520   \n",
      "2  33116.25878000 2024-09-17 23:59:59.999  1983378424.77570380   \n",
      "3  36087.02469000 2024-09-18 23:59:59.999  2174000496.82077610   \n",
      "4  34332.52608000 2024-09-19 23:59:59.999  2153175931.17387170   \n",
      "\n",
      "   number_of_trades taker_buy_base_asset_volume taker_buy_quote_asset_volume  \\\n",
      "0           1552950               6431.24697000           384460724.57039670   \n",
      "1           3145152              12859.75840000           749563220.80605080   \n",
      "2           3918209              16390.65993000           981860543.27358150   \n",
      "3           5167671              18429.59712000          1110622778.75108520   \n",
      "4           4438284              17609.62958000          1104427424.52469690   \n",
      "\n",
      "  ignore  \n",
      "0      0  \n",
      "1      0  \n",
      "2      0  \n",
      "3      0  \n",
      "4      0  \n"
     ]
    }
   ],
   "source": [
    "from binance import Client\n",
    "import pandas as pd\n",
    "import datetime\n",
    "\n",
    "# Configuración del cliente de Binance (reemplaza con tus credenciales si es necesario)\n",
    "binance_client = Client()\n",
    "\n",
    "def extract_btc_ohlcv():\n",
    "    # Extraer datos OHLCV de Bitcoin en intervalos de 1 día (1d)\n",
    "    ohlcv_data = binance_client.get_klines(symbol='BTCUSDT', interval=Client.KLINE_INTERVAL_1DAY, limit=30)\n",
    "    \n",
    "    # Extraer y estructurar los datos\n",
    "    df = pd.DataFrame(ohlcv_data, columns=[\n",
    "        \"timestamp\", \"open\", \"high\", \"low\", \"close\", \"volume\", \"close_time\",\n",
    "        \"quote_asset_volume\", \"number_of_trades\", \"taker_buy_base_asset_volume\",\n",
    "        \"taker_buy_quote_asset_volume\", \"ignore\"\n",
    "    ])\n",
    "    \n",
    "    # Convertir el timestamp a un formato legible\n",
    "    df[\"timestamp\"] = pd.to_datetime(df[\"timestamp\"], unit='ms')\n",
    "    df[\"close_time\"] = pd.to_datetime(df[\"close_time\"], unit='ms')\n",
    "\n",
    "    print(df.head())\n",
    "    return df\n",
    "\n",
    "# Ejecutar la función para probarla\n",
    "if __name__ == \"__main__\":\n",
    "    extract_btc_ohlcv()\n"
   ]
  }
 ],
 "metadata": {
  "kernelspec": {
   "display_name": "venv",
   "language": "python",
   "name": "python3"
  },
  "language_info": {
   "codemirror_mode": {
    "name": "ipython",
    "version": 3
   },
   "file_extension": ".py",
   "mimetype": "text/x-python",
   "name": "python",
   "nbconvert_exporter": "python",
   "pygments_lexer": "ipython3",
   "version": "3.12.4"
  }
 },
 "nbformat": 4,
 "nbformat_minor": 2
}
