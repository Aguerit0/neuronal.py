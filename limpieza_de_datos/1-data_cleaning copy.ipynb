{
 "cells": [
  {
   "cell_type": "markdown",
   "metadata": {},
   "source": [
    "## DATA CLEANING"
   ]
  },
  {
   "cell_type": "markdown",
   "metadata": {},
   "source": [
    "**Limpieza de Datos**\n",
    "\n",
    "La limpieza de datos es un paso fundamental en el proceso de análisis de datos que implica identificar y corregir errores, inconsistencias y datos incompletos en conjuntos de datos. Este proceso es crucial para garantizar la precisión y la fiabilidad de los resultados analíticos."
   ]
  },
  {
   "cell_type": "markdown",
   "metadata": {},
   "source": [
    "**Pasos de Limpieza de Datos**\n",
    "\n",
    "1) Identificación de Datos Incorrectos o Faltantes:\n",
    "\n",
    "    -   Revisar el conjunto de datos en busca de valores atípicos, valores nulos o valores que no tienen sentido.\n",
    "    -   Identificar patrones y tendencias en los datos para comprender mejor la naturaleza de los errores.\n",
    "\n",
    "2) Tratamiento de Valores Atípicos:\n",
    "\n",
    "    -   Evaluar si los valores atípicos son errores de entrada o representan información relevante.\n",
    "    -   Decidir si eliminar, corregir o mantener los valores atípicos según el contexto del análisis.\n",
    "\n",
    "3) Manejo de Valores Nulos:\n",
    "\n",
    "    -   Determinar si los valores nulos son resultado de errores o si indican información ausente.\n",
    "    -   Estrategias comunes incluyen eliminar filas con valores nulos, imputar valores basados en estadísticas, o utilizar técnicas más avanzadas como modelos de imputación.\n",
    "\n",
    "4) Normalización y Estandarización:\n",
    "\n",
    "    -   Asegurarse de que los datos estén en un formato consistente y comparable.\n",
    "    -   Normalizar datos categóricos, estandarizar unidades de medida y escalar características numéricas para evitar sesgos en el análisis.\n",
    "\n",
    "5) Consolidación de Datos Duplicados:\n",
    "\n",
    "    -   Identificar y eliminar duplicados en el conjunto de datos para evitar redundancias y mejorar la eficiencia del análisis."
   ]
  },
  {
   "cell_type": "code",
   "execution_count": null,
   "metadata": {},
   "outputs": [],
   "source": [
    "import pandas as pd"
   ]
  },
  {
   "cell_type": "code",
   "execution_count": null,
   "metadata": {},
   "outputs": [],
   "source": [
    "#   Importamos nuestro dataset (se encuentra el repositorio de GitHub)\n",
    "\n"
   ]
  },
  {
   "cell_type": "markdown",
   "metadata": {},
   "source": [
    "**Seleccionar columnas que nos interesan**\n",
    "\n",
    "-   .drop(): elimina una columna RECIBE POR PARÁMETRO CUAL COLUMNA"
   ]
  },
  {
   "cell_type": "code",
   "execution_count": null,
   "metadata": {},
   "outputs": [],
   "source": [
    "#   Eliminamos columna innecesaria\n",
    "\n"
   ]
  },
  {
   "cell_type": "code",
   "execution_count": null,
   "metadata": {},
   "outputs": [],
   "source": [
    "#   Eliminamos del df definitivamente\n",
    "\n"
   ]
  },
  {
   "cell_type": "markdown",
   "metadata": {},
   "source": [
    "**Identificar y eliminar duplicados** \n",
    "\n",
    " -  Para evitar redundancias y mejorar la eficiencia del análisis.**\n",
    " -  .drop_duplicates(): eliminar columnas duplicadas"
   ]
  },
  {
   "cell_type": "code",
   "execution_count": null,
   "metadata": {},
   "outputs": [],
   "source": [
    "#Eliminamos columnas duplicadas\n",
    "\n"
   ]
  },
  {
   "cell_type": "code",
   "execution_count": null,
   "metadata": {},
   "outputs": [],
   "source": [
    "#Eliminamos definitivamente columnas duplicadas\n",
    "\n"
   ]
  },
  {
   "cell_type": "markdown",
   "metadata": {},
   "source": [
    "**Búsqueda de valores atípicos, valores nulos o valores que no tienen sentido.**\n",
    "\n",
    "Funciones:\n",
    "-   str(): Convierte el objeto en una representación de cadena.\n",
    "-   strip(): Elimina los espacios en blanco al principio y al final de una cadena.\n",
    "-   lstrip(): Elimina los espacios en blanco solo del lado izquierdo de una cadena.\n",
    "-   fillna(): Rellena los valores nulos (NaN) con un valor específico.\n",
    "-   dropna(): Elimina filas o columnas que contienen valores nulos.\n",
    "-   isdigit(): Devuelve True si todos los caracteres de una cadena son dígitos, False de lo contrario.\n",
    "-   isnull(): Devuelve True si el valor es nulo (NaN), False de lo contrario."
   ]
  },
  {
   "cell_type": "code",
   "execution_count": null,
   "metadata": {},
   "outputs": [],
   "source": [
    "#   Mostramos DF\n",
    "\n"
   ]
  },
  {
   "cell_type": "markdown",
   "metadata": {},
   "source": [
    "-   carácteres atípicos: / ... _ |\n",
    "-   valores nulos: NaN N/a nan"
   ]
  },
  {
   "cell_type": "code",
   "execution_count": null,
   "metadata": {},
   "outputs": [],
   "source": [
    "#   Trabajamos con la columna Last_Name\n",
    "\n"
   ]
  },
  {
   "cell_type": "code",
   "execution_count": null,
   "metadata": {},
   "outputs": [],
   "source": [
    "#   Modificamos el df\n",
    "\n"
   ]
  },
  {
   "cell_type": "code",
   "execution_count": null,
   "metadata": {},
   "outputs": [],
   "source": [
    "#   Mostramos columna Phone_Number\n",
    "\n"
   ]
  },
  {
   "cell_type": "code",
   "execution_count": null,
   "metadata": {},
   "outputs": [],
   "source": [
    "#   Función para limpiar datos numericos de 'Phone_Number'\n",
    "#   join(): unir digitos filtrados en una única cadena\n",
    "#   filter(): filtramos datos\n",
    "#   str: convertimos en cadena\n",
    "#   isdigit: filtrar digitos de una cadena str\n",
    "\n"
   ]
  },
  {
   "cell_type": "code",
   "execution_count": null,
   "metadata": {},
   "outputs": [],
   "source": [
    "#   Aplicamos lambda para modificar a string la columna Number\n",
    "\n"
   ]
  },
  {
   "cell_type": "code",
   "execution_count": null,
   "metadata": {},
   "outputs": [],
   "source": [
    "#   Reemplazamos datos innecesarios\n",
    "\n"
   ]
  },
  {
   "cell_type": "markdown",
   "metadata": {},
   "source": [
    "**Subdivisión de columnas**\n",
    "\n",
    "-   Separar datos contenidos en una misma columna, por ejemplo datos geograficos o fechas\n",
    "-   Nos sirve para analizar de manera mas puntual un dato"
   ]
  },
  {
   "cell_type": "code",
   "execution_count": null,
   "metadata": {},
   "outputs": [],
   "source": [
    "#   Mostramos DF\n",
    "\n"
   ]
  },
  {
   "cell_type": "code",
   "execution_count": null,
   "metadata": {},
   "outputs": [],
   "source": [
    "#   Seleccionamos columna\n",
    "\n"
   ]
  },
  {
   "cell_type": "markdown",
   "metadata": {},
   "source": [
    "**UNIFICAR DATOS IGUALES CON DIFERENTE NOMBRE**\n",
    "\n",
    "-   Por ejemplo: 1=uno, True=['Verdadero', 'V']\n",
    "-   .replace(): reemplazar un dato por otro"
   ]
  },
  {
   "cell_type": "code",
   "execution_count": null,
   "metadata": {},
   "outputs": [],
   "source": [
    "#   Podemos seleccionar todas las columnas del dataFrame con un bucle\n",
    "\n"
   ]
  },
  {
   "cell_type": "markdown",
   "metadata": {},
   "source": [
    "**Comparamos con el DF original**"
   ]
  },
  {
   "cell_type": "code",
   "execution_count": null,
   "metadata": {},
   "outputs": [],
   "source": []
  },
  {
   "cell_type": "markdown",
   "metadata": {},
   "source": [
    "**-SUBIR A GITHUB-**"
   ]
  },
  {
   "cell_type": "markdown",
   "metadata": {},
   "source": [
    "**CONCLUSIÓN**\n",
    "\n",
    "*La limpieza de datos fue esencial para asegurar la calidad y consistencia de los datos. Se aplicaron técnicas como la eliminación de valores nulos y la estandarización de formatos, lo que resultó en un conjunto de datos más confiable y apto para el análisis. Este proceso mejora la eficacia y precisión de cualquier modelo o análisis posterior. La limpieza de datos es un paso crucial en cualquier proyecto de análisis o modelado de datos para garantizar la fiabilidad y validez de los resultados.*"
   ]
  }
 ],
 "metadata": {
  "kernelspec": {
   "display_name": "base",
   "language": "python",
   "name": "python3"
  },
  "language_info": {
   "codemirror_mode": {
    "name": "ipython",
    "version": 3
   },
   "file_extension": ".py",
   "mimetype": "text/x-python",
   "name": "python",
   "nbconvert_exporter": "python",
   "pygments_lexer": "ipython3",
   "version": "3.11.5"
  }
 },
 "nbformat": 4,
 "nbformat_minor": 2
}
