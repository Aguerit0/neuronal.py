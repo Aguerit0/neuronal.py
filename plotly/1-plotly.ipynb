{
 "cells": [
  {
   "cell_type": "markdown",
   "metadata": {},
   "source": [
    "## PLOTLY"
   ]
  },
  {
   "cell_type": "markdown",
   "metadata": {},
   "source": [
    "Plotly es una biblioteca de visualización de datos interactiva que permite crear gráficos personalizables y de alta calidad \n",
    "\n",
    "\n",
    "DataFrames interesantes:\n",
    "-   gapminder\n",
    "-   car_crashes\n",
    "-   tips\n",
    "-   iris\n",
    "-   stocks"
   ]
  },
  {
   "cell_type": "markdown",
   "metadata": {},
   "source": [
    "**INSTALACION**"
   ]
  },
  {
   "cell_type": "code",
   "execution_count": 22,
   "metadata": {},
   "outputs": [],
   "source": [
    "import plotly.express as px"
   ]
  },
  {
   "cell_type": "markdown",
   "metadata": {},
   "source": [
    "**SCATTER PLOT**\n",
    "\n",
    "Muestra la relación entre dos variables, representando cada punto de datos como un punto en un plano cartesiano."
   ]
  },
  {
   "cell_type": "code",
   "execution_count": 23,
   "metadata": {},
   "outputs": [],
   "source": [
    "# iris"
   ]
  },
  {
   "cell_type": "code",
   "execution_count": null,
   "metadata": {},
   "outputs": [],
   "source": []
  },
  {
   "cell_type": "markdown",
   "metadata": {},
   "source": [
    "**LINE PLOT**\n",
    "\n",
    "\n",
    "Muestra la evolución de una variable a lo largo del tiempo o de otra variable independiente, conectando los puntos de datos con líneas."
   ]
  },
  {
   "cell_type": "markdown",
   "metadata": {},
   "source": [
    "- dict(dash = 'solid'): Una línea sólida continua.\n",
    "\n",
    "- 'dash': Una línea segmentada con pequeños guiones.\n",
    "\n",
    "- 'dot': Una línea punteada compuesta por puntos.\n",
    "\n",
    "- 'dashdot': Una línea segmentada con una combinación de guiones y puntos.\n",
    "\n",
    "- 'longdash': Una línea segmentada con guiones más largos.\n",
    "\n",
    "- 'longdashdot': Una línea segmentada con guiones más largos y puntos."
   ]
  },
  {
   "cell_type": "code",
   "execution_count": 24,
   "metadata": {},
   "outputs": [],
   "source": [
    "#   stocks"
   ]
  },
  {
   "cell_type": "code",
   "execution_count": null,
   "metadata": {},
   "outputs": [],
   "source": []
  },
  {
   "cell_type": "code",
   "execution_count": null,
   "metadata": {},
   "outputs": [],
   "source": []
  },
  {
   "cell_type": "markdown",
   "metadata": {},
   "source": [
    "**BAR PLOT**\n",
    "\n",
    "Representa datos categóricos con barras rectangulares, donde la altura de cada barra corresponde a la frecuencia o valor asociado a esa categoría."
   ]
  },
  {
   "cell_type": "code",
   "execution_count": 25,
   "metadata": {},
   "outputs": [],
   "source": [
    "#   tips"
   ]
  },
  {
   "cell_type": "code",
   "execution_count": null,
   "metadata": {},
   "outputs": [],
   "source": []
  },
  {
   "cell_type": "markdown",
   "metadata": {},
   "source": [
    "**BOX PLOT**\n",
    "\n",
    "proporciona información sobre la distribución de un conjunto de datos. Este gráfico muestra de manera resumida varios estadísticos clave de un conjunto de datos, incluyendo:\n",
    "\n",
    "- Mediana (línea en el medio de la caja): Es el valor que divide al conjunto de datos en dos partes iguales. El 50% de los datos están por encima de la mediana y el 50% están por debajo.\n",
    "\n",
    "- Cuartiles (extremos de la caja): Son los valores que dividen el conjunto de datos en cuatro partes iguales. El primer cuartil (Q1) es el valor por debajo del cual se encuentra el 25% de los datos, y el tercer cuartil (Q3) es el valor por debajo del cual se encuentra el 75% de los datos.\n",
    "\n",
    "- Rango intercuartílico (longitud de la caja): Es la diferencia entre el tercer cuartil y el primer cuartil (Q3 - Q1). Representa el rango intermedio del conjunto de datos donde se concentra la mayor parte de los valores.\n",
    "\n",
    "- Bigotes (líneas que se extienden desde la caja): Indican la dispersión de los datos más allá de los cuartiles. Por lo general, se extienden hasta un cierto múltiplo del rango intercuartílico, aunque su longitud puede variar dependiendo de la implementación y de si se consideran valores atípicos.\n",
    "\n",
    "- Valores atípicos (puntos fuera de los bigotes): Son valores que caen fuera del rango esperado de los datos y pueden indicar posibles anomalías o errores en la medición."
   ]
  },
  {
   "cell_type": "code",
   "execution_count": 26,
   "metadata": {},
   "outputs": [],
   "source": [
    "# tips\n"
   ]
  },
  {
   "cell_type": "code",
   "execution_count": null,
   "metadata": {},
   "outputs": [],
   "source": []
  },
  {
   "cell_type": "code",
   "execution_count": null,
   "metadata": {},
   "outputs": [],
   "source": []
  },
  {
   "cell_type": "markdown",
   "metadata": {},
   "source": [
    "**VIOLIT PLOT**\n",
    "\n",
    "Similar al box plot pero proporciona información adicional sobre la distribución de los datos mediante la forma de un violín, mostrando la densidad de probabilidad."
   ]
  },
  {
   "cell_type": "code",
   "execution_count": 27,
   "metadata": {},
   "outputs": [],
   "source": [
    "#   tips"
   ]
  },
  {
   "cell_type": "code",
   "execution_count": null,
   "metadata": {},
   "outputs": [],
   "source": []
  },
  {
   "cell_type": "markdown",
   "metadata": {},
   "source": [
    "**PIE PLOT**\n",
    "\n",
    "(grafijo de torta) -> Representa proporciones de un todo mediante sectores circulares, donde cada sector corresponde a una categoría y su tamaño relativo refleja su proporción en el conjunto de datos."
   ]
  },
  {
   "cell_type": "code",
   "execution_count": 28,
   "metadata": {},
   "outputs": [],
   "source": [
    "#   iris"
   ]
  },
  {
   "cell_type": "code",
   "execution_count": null,
   "metadata": {},
   "outputs": [],
   "source": []
  },
  {
   "cell_type": "markdown",
   "metadata": {},
   "source": [
    "**AREA PLOT**\n",
    "\n",
    "Muestra la evolución de una variable a lo largo del tiempo o de otra variable independiente mediante áreas coloreadas debajo de una línea, proporcionando una representación visual de la magnitud acumulada."
   ]
  },
  {
   "cell_type": "code",
   "execution_count": 29,
   "metadata": {},
   "outputs": [],
   "source": [
    "#   gapminder"
   ]
  },
  {
   "cell_type": "code",
   "execution_count": null,
   "metadata": {},
   "outputs": [],
   "source": []
  },
  {
   "cell_type": "code",
   "execution_count": null,
   "metadata": {},
   "outputs": [],
   "source": []
  },
  {
   "cell_type": "markdown",
   "metadata": {},
   "source": [
    "**HISTOGRAM PLOT**\n",
    "\n",
    "Divide el rango de valores de una variable en intervalos y muestra la frecuencia con la que ocurren los valores en cada intervalo mediante barras rectangulares, proporcionando una representación visual de la distribución de los datos."
   ]
  },
  {
   "cell_type": "code",
   "execution_count": null,
   "metadata": {},
   "outputs": [],
   "source": []
  },
  {
   "cell_type": "code",
   "execution_count": null,
   "metadata": {},
   "outputs": [],
   "source": []
  }
 ],
 "metadata": {
  "kernelspec": {
   "display_name": "base",
   "language": "python",
   "name": "python3"
  },
  "language_info": {
   "codemirror_mode": {
    "name": "ipython",
    "version": 3
   },
   "file_extension": ".py",
   "mimetype": "text/x-python",
   "name": "python",
   "nbconvert_exporter": "python",
   "pygments_lexer": "ipython3",
   "version": "3.11.5"
  }
 },
 "nbformat": 4,
 "nbformat_minor": 2
}
